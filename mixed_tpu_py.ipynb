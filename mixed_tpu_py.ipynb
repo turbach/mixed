{
 "cells": [
  {
   "cell_type": "markdown",
   "metadata": {},
   "source": [
    "# Double precision feather data are not identical in pandas and R\n",
    "\n",
    "\n",
    "* Generate fake data\n",
    "\n",
    "* Compare column means\n",
    "\n",
    "* Compare column sums of squares to magnify and accumulate differences\n"
   ]
  },
  {
   "cell_type": "code",
   "execution_count": 1,
   "metadata": {},
   "outputs": [
    {
     "name": "stdout",
     "output_type": "stream",
     "text": [
      "R: /home/turbach/.conda/envs/local_R/bin/R\n",
      "python3: /mnt/cube/home/turbach/TPU_Projects/mixed/.venv/bin/python3\n",
      "jupyter: /mnt/cube/home/turbach/TPU_Projects/mixed/.venv/bin/jupyter\n"
     ]
    }
   ],
   "source": [
    "%%bash\n",
    "echo \"R: $(which R)\"\n",
    "echo \"python3: $(which python3)\"\n",
    "echo \"jupyter: $(which jupyter)\""
   ]
  },
  {
   "cell_type": "code",
   "execution_count": 2,
   "metadata": {},
   "outputs": [
    {
     "name": "stderr",
     "output_type": "stream",
     "text": [
      "/mnt/cube/home/turbach/TPU_Projects/mixed/.venv/lib/python3.8/site-packages/rpy2/robjects/pandas2ri.py:14: FutureWarning: pandas.core.index is deprecated and will be removed in a future version.  The public classes are available in the top-level namespace.\n",
      "  from pandas.core.index import Index as PandasIndex\n",
      "/mnt/cube/home/turbach/TPU_Projects/mixed/.venv/lib/python3.8/site-packages/rpy2/robjects/pandas2ri.py:34: UserWarning: pandas >= 1.0 is not supported.\n",
      "  warnings.warn('pandas >= 1.0 is not supported.')\n"
     ]
    }
   ],
   "source": [
    "%load_ext rpy2.ipython"
   ]
  },
  {
   "cell_type": "code",
   "execution_count": 3,
   "metadata": {},
   "outputs": [
    {
     "name": "stderr",
     "output_type": "stream",
     "text": [
      "R[write to console]: \n",
      "Attaching package: ‘dplyr’\n",
      "\n",
      "\n",
      "R[write to console]: The following objects are masked from ‘package:stats’:\n",
      "\n",
      "    filter, lag\n",
      "\n",
      "\n",
      "R[write to console]: The following objects are masked from ‘package:base’:\n",
      "\n",
      "    intersect, setdiff, setequal, union\n",
      "\n",
      "\n"
     ]
    },
    {
     "name": "stdout",
     "output_type": "stream",
     "text": [
      "               _                           \n",
      "platform       x86_64-conda_cos6-linux-gnu \n",
      "arch           x86_64                      \n",
      "os             linux-gnu                   \n",
      "system         x86_64, linux-gnu           \n",
      "status                                     \n",
      "major          3                           \n",
      "minor          5.3                         \n",
      "year           2019                        \n",
      "month          03                          \n",
      "day            11                          \n",
      "svn rev        76217                       \n",
      "language       R                           \n",
      "version.string R version 3.5.3 (2019-03-11)\n",
      "nickname       Great Truth                 \n",
      "[1] ‘0.8.5’\n",
      "[1] \"/mnt/cube/home/turbach/.conda/envs/local_R/lib/R/library\"\n"
     ]
    }
   ],
   "source": [
    "%%R\n",
    "library(dplyr)\n",
    "library(feather)\n",
    "library(tibble)\n",
    "\n",
    "show(R.version)\n",
    "show(packageVersion('dplyr'))\n",
    ".libPaths()"
   ]
  },
  {
   "cell_type": "code",
   "execution_count": 4,
   "metadata": {},
   "outputs": [
    {
     "data": {
      "text/plain": [
       "'1.18.1'"
      ]
     },
     "metadata": {},
     "output_type": "display_data"
    },
    {
     "data": {
      "text/plain": [
       "'1.0.2'"
      ]
     },
     "metadata": {},
     "output_type": "display_data"
    }
   ],
   "source": [
    "import numpy as np\n",
    "import pandas as pd\n",
    "display(np.__version__)\n",
    "display(pd.__version__)"
   ]
  },
  {
   "cell_type": "code",
   "execution_count": 5,
   "metadata": {},
   "outputs": [
    {
     "data": {
      "text/plain": [
       "(4096, 5)"
      ]
     },
     "metadata": {},
     "output_type": "display_data"
    },
    {
     "data": {
      "text/html": [
       "<div>\n",
       "<style scoped>\n",
       "    .dataframe tbody tr th:only-of-type {\n",
       "        vertical-align: middle;\n",
       "    }\n",
       "\n",
       "    .dataframe tbody tr th {\n",
       "        vertical-align: top;\n",
       "    }\n",
       "\n",
       "    .dataframe thead th {\n",
       "        text-align: right;\n",
       "    }\n",
       "</style>\n",
       "<table border=\"1\" class=\"dataframe\">\n",
       "  <thead>\n",
       "    <tr style=\"text-align: right;\">\n",
       "      <th></th>\n",
       "      <th>a</th>\n",
       "      <th>b</th>\n",
       "      <th>x</th>\n",
       "      <th>y</th>\n",
       "      <th>z</th>\n",
       "    </tr>\n",
       "  </thead>\n",
       "  <tbody>\n",
       "    <tr>\n",
       "      <th>0</th>\n",
       "      <td>a1</td>\n",
       "      <td>b1</td>\n",
       "      <td>1.764052</td>\n",
       "      <td>1.629475</td>\n",
       "      <td>-0.528919</td>\n",
       "    </tr>\n",
       "    <tr>\n",
       "      <th>1</th>\n",
       "      <td>a1</td>\n",
       "      <td>b2</td>\n",
       "      <td>0.400157</td>\n",
       "      <td>-0.099045</td>\n",
       "      <td>-1.978994</td>\n",
       "    </tr>\n",
       "    <tr>\n",
       "      <th>2</th>\n",
       "      <td>a2</td>\n",
       "      <td>b1</td>\n",
       "      <td>0.978738</td>\n",
       "      <td>-0.201992</td>\n",
       "      <td>-0.093651</td>\n",
       "    </tr>\n",
       "    <tr>\n",
       "      <th>3</th>\n",
       "      <td>a2</td>\n",
       "      <td>b2</td>\n",
       "      <td>2.240893</td>\n",
       "      <td>-1.448826</td>\n",
       "      <td>-0.553708</td>\n",
       "    </tr>\n",
       "    <tr>\n",
       "      <th>4</th>\n",
       "      <td>a1</td>\n",
       "      <td>b1</td>\n",
       "      <td>1.867558</td>\n",
       "      <td>-1.714165</td>\n",
       "      <td>0.157762</td>\n",
       "    </tr>\n",
       "  </tbody>\n",
       "</table>\n",
       "</div>"
      ],
      "text/plain": [
       "    a   b         x         y         z\n",
       "0  a1  b1  1.764052  1.629475 -0.528919\n",
       "1  a1  b2  0.400157 -0.099045 -1.978994\n",
       "2  a2  b1  0.978738 -0.201992 -0.093651\n",
       "3  a2  b2  2.240893 -1.448826 -0.553708\n",
       "4  a1  b1  1.867558 -1.714165  0.157762"
      ]
     },
     "metadata": {},
     "output_type": "display_data"
    },
    {
     "data": {
      "text/html": [
       "<div>\n",
       "<style scoped>\n",
       "    .dataframe tbody tr th:only-of-type {\n",
       "        vertical-align: middle;\n",
       "    }\n",
       "\n",
       "    .dataframe tbody tr th {\n",
       "        vertical-align: top;\n",
       "    }\n",
       "\n",
       "    .dataframe thead th {\n",
       "        text-align: right;\n",
       "    }\n",
       "</style>\n",
       "<table border=\"1\" class=\"dataframe\">\n",
       "  <thead>\n",
       "    <tr style=\"text-align: right;\">\n",
       "      <th></th>\n",
       "      <th>a</th>\n",
       "      <th>b</th>\n",
       "      <th>x</th>\n",
       "      <th>y</th>\n",
       "      <th>z</th>\n",
       "    </tr>\n",
       "  </thead>\n",
       "  <tbody>\n",
       "    <tr>\n",
       "      <th>4091</th>\n",
       "      <td>a2</td>\n",
       "      <td>b2</td>\n",
       "      <td>-0.743152</td>\n",
       "      <td>0.094388</td>\n",
       "      <td>-0.211424</td>\n",
       "    </tr>\n",
       "    <tr>\n",
       "      <th>4092</th>\n",
       "      <td>a1</td>\n",
       "      <td>b1</td>\n",
       "      <td>0.891968</td>\n",
       "      <td>-0.666796</td>\n",
       "      <td>1.173267</td>\n",
       "    </tr>\n",
       "    <tr>\n",
       "      <th>4093</th>\n",
       "      <td>a1</td>\n",
       "      <td>b2</td>\n",
       "      <td>0.463873</td>\n",
       "      <td>0.666045</td>\n",
       "      <td>0.509159</td>\n",
       "    </tr>\n",
       "    <tr>\n",
       "      <th>4094</th>\n",
       "      <td>a2</td>\n",
       "      <td>b1</td>\n",
       "      <td>0.617661</td>\n",
       "      <td>0.532039</td>\n",
       "      <td>-0.158269</td>\n",
       "    </tr>\n",
       "    <tr>\n",
       "      <th>4095</th>\n",
       "      <td>a2</td>\n",
       "      <td>b2</td>\n",
       "      <td>2.496417</td>\n",
       "      <td>-1.050808</td>\n",
       "      <td>0.691676</td>\n",
       "    </tr>\n",
       "  </tbody>\n",
       "</table>\n",
       "</div>"
      ],
      "text/plain": [
       "       a   b         x         y         z\n",
       "4091  a2  b2 -0.743152  0.094388 -0.211424\n",
       "4092  a1  b1  0.891968 -0.666796  1.173267\n",
       "4093  a1  b2  0.463873  0.666045  0.509159\n",
       "4094  a2  b1  0.617661  0.532039 -0.158269\n",
       "4095  a2  b2  2.496417 -1.050808  0.691676"
      ]
     },
     "metadata": {},
     "output_type": "display_data"
    },
    {
     "data": {
      "text/plain": [
       "[\"<class 'float'>: -0.02662872001551538220232018261413\",\n",
       " \"<class 'float'>: -0.00475772800525307761748683432756\",\n",
       " \"<class 'float'>: -0.01697831854605093282462036086145\"]"
      ]
     },
     "metadata": {},
     "output_type": "display_data"
    },
    {
     "data": {
      "text/plain": [
       "[\"<class 'float'>: 3962.493575947415\",\n",
       " \"<class 'float'>: 4025.389704460528\",\n",
       " \"<class 'float'>: 4114.288326918832\"]"
      ]
     },
     "metadata": {},
     "output_type": "display_data"
    }
   ],
   "source": [
    "data = pd.read_feather(\"data.feather\")\n",
    "\n",
    "mn = [ f\"{type(ss)}: {ss:.32f}\" for ss in (data[['x', 'y', 'z']]).mean()]\n",
    "SS = [ f\"{type(ss)}: {ss:.12f}\" for ss in (data[['x', 'y', 'z']]**2).sum()]\n",
    "for d in [data.shape, data.head(), data.tail(), mn, SS]:\n",
    "    display(d)"
   ]
  },
  {
   "cell_type": "code",
   "execution_count": 6,
   "metadata": {},
   "outputs": [
    {
     "name": "stdout",
     "output_type": "stream",
     "text": [
      "[1] 4096    5\n",
      "\u001b[90m# A tibble: 6 x 5\u001b[39m\n",
      "  a     b                 x               y               z\n",
      "  \u001b[3m\u001b[90m<chr>\u001b[39m\u001b[23m \u001b[3m\u001b[90m<chr>\u001b[39m\u001b[23m         \u001b[3m\u001b[90m<dbl>\u001b[39m\u001b[23m           \u001b[3m\u001b[90m<dbl>\u001b[39m\u001b[23m           \u001b[3m\u001b[90m<dbl>\u001b[39m\u001b[23m\n",
      "\u001b[90m1\u001b[39m a1    b1     1.764\u001b[4m0\u001b[24m\u001b[4m5\u001b[24m\u001b[4m2\u001b[24m346    1.629\u001b[4m4\u001b[24m\u001b[4m7\u001b[24m\u001b[4m5\u001b[24m223    -\u001b[31m0\u001b[39m\u001b[31m.\u001b[39m\u001b[31m528\u001b[4m9\u001b[24m\u001b[4m1\u001b[24m\u001b[4m8\u001b[24m544\u001b[4m6\u001b[24m\u001b[39m \n",
      "\u001b[90m2\u001b[39m a1    b2     0.400\u001b[4m1\u001b[24m\u001b[4m5\u001b[24m\u001b[4m7\u001b[24m208\u001b[4m4\u001b[24m  -\u001b[31m0\u001b[39m\u001b[31m.\u001b[39m\u001b[31m0\u001b[39m\u001b[31m99\u001b[4m0\u001b[24m\u001b[4m4\u001b[24m\u001b[4m4\u001b[24m701\u001b[4m6\u001b[24m\u001b[4m9\u001b[24m\u001b[39m  -\u001b[31m1\u001b[39m\u001b[31m.\u001b[39m\u001b[31m978\u001b[4m9\u001b[24m\u001b[4m9\u001b[24m\u001b[4m3\u001b[24m792\u001b[39m  \n",
      "\u001b[90m3\u001b[39m a2    b1     0.978\u001b[4m7\u001b[24m\u001b[4m3\u001b[24m\u001b[4m7\u001b[24m984\u001b[4m1\u001b[24m  -\u001b[31m0\u001b[39m\u001b[31m.\u001b[39m\u001b[31m201\u001b[4m9\u001b[24m\u001b[4m9\u001b[24m\u001b[4m1\u001b[24m955\u001b[4m3\u001b[24m\u001b[39m   -\u001b[31m0\u001b[39m\u001b[31m.\u001b[39m\u001b[31m0\u001b[39m\u001b[31m93\u001b[4m6\u001b[24m\u001b[4m5\u001b[24m\u001b[4m0\u001b[24m600\u001b[4m2\u001b[24m\u001b[4m6\u001b[24m\u001b[39m\n",
      "\u001b[90m4\u001b[39m a2    b2     2.240\u001b[4m8\u001b[24m\u001b[4m9\u001b[24m\u001b[4m3\u001b[24m199   -\u001b[31m1\u001b[39m\u001b[31m.\u001b[39m\u001b[31m448\u001b[4m8\u001b[24m\u001b[4m2\u001b[24m\u001b[4m5\u001b[24m889\u001b[39m    -\u001b[31m0\u001b[39m\u001b[31m.\u001b[39m\u001b[31m553\u001b[4m7\u001b[24m\u001b[4m0\u001b[24m\u001b[4m8\u001b[24m157\u001b[4m2\u001b[24m\u001b[39m \n",
      "\u001b[90m5\u001b[39m a1    b1     1.867\u001b[4m5\u001b[24m\u001b[4m5\u001b[24m\u001b[4m7\u001b[24m990   -\u001b[31m1\u001b[39m\u001b[31m.\u001b[39m\u001b[31m714\u001b[4m1\u001b[24m\u001b[4m6\u001b[24m\u001b[4m4\u001b[24m687\u001b[39m     0.157\u001b[4m7\u001b[24m\u001b[4m6\u001b[24m\u001b[4m1\u001b[24m954\u001b[4m6\u001b[24m \n",
      "\u001b[90m6\u001b[39m a1    b2    -\u001b[31m0\u001b[39m\u001b[31m.\u001b[39m\u001b[31m977\u001b[4m2\u001b[24m\u001b[4m7\u001b[24m\u001b[4m7\u001b[24m879\u001b[4m9\u001b[24m\u001b[39m  -\u001b[31m0\u001b[39m\u001b[31m.\u001b[39m\u001b[31m0\u001b[39m\u001b[31m49\u001b[4m6\u001b[24m\u001b[4m4\u001b[24m\u001b[4m1\u001b[24m570\u001b[4m7\u001b[24m\u001b[4m8\u001b[24m\u001b[39m   0.371\u001b[4m4\u001b[24m\u001b[4m3\u001b[24m\u001b[4m6\u001b[24m450\u001b[4m3\u001b[24m \n",
      "\u001b[90m# A tibble: 6 x 5\u001b[39m\n",
      "  a     b                 x               y             z\n",
      "  \u001b[3m\u001b[90m<chr>\u001b[39m\u001b[23m \u001b[3m\u001b[90m<chr>\u001b[39m\u001b[23m         \u001b[3m\u001b[90m<dbl>\u001b[39m\u001b[23m           \u001b[3m\u001b[90m<dbl>\u001b[39m\u001b[23m         \u001b[3m\u001b[90m<dbl>\u001b[39m\u001b[23m\n",
      "\u001b[90m1\u001b[39m a2    b1    -\u001b[31m0\u001b[39m\u001b[31m.\u001b[39m\u001b[31m438\u001b[4m3\u001b[24m\u001b[4m5\u001b[24m\u001b[4m6\u001b[24m166\u001b[4m2\u001b[24m\u001b[39m   1.581\u001b[4m6\u001b[24m\u001b[4m9\u001b[24m\u001b[4m1\u001b[24m225   -\u001b[31m0\u001b[39m\u001b[31m.\u001b[39m\u001b[31m400\u001b[4m6\u001b[24m\u001b[4m0\u001b[24m\u001b[4m0\u001b[24m201\u001b[4m8\u001b[24m\u001b[39m\n",
      "\u001b[90m2\u001b[39m a2    b2    -\u001b[31m0\u001b[39m\u001b[31m.\u001b[39m\u001b[31m743\u001b[4m1\u001b[24m\u001b[4m5\u001b[24m\u001b[4m2\u001b[24m481\u001b[4m2\u001b[24m\u001b[39m   0.094\u001b[4m3\u001b[24m\u001b[4m8\u001b[24m\u001b[4m7\u001b[24m842\u001b[4m0\u001b[24m\u001b[4m7\u001b[24m -\u001b[31m0\u001b[39m\u001b[31m.\u001b[39m\u001b[31m211\u001b[4m4\u001b[24m\u001b[4m2\u001b[24m\u001b[4m3\u001b[24m685\u001b[4m0\u001b[24m\u001b[39m\n",
      "\u001b[90m3\u001b[39m a1    b1     0.891\u001b[4m9\u001b[24m\u001b[4m6\u001b[24m\u001b[4m7\u001b[24m582\u001b[4m0\u001b[24m  -\u001b[31m0\u001b[39m\u001b[31m.\u001b[39m\u001b[31m666\u001b[4m7\u001b[24m\u001b[4m9\u001b[24m\u001b[4m5\u001b[24m531\u001b[4m1\u001b[24m\u001b[39m   1.173\u001b[4m2\u001b[24m\u001b[4m6\u001b[24m\u001b[4m6\u001b[24m879 \n",
      "\u001b[90m4\u001b[39m a1    b2     0.463\u001b[4m8\u001b[24m\u001b[4m7\u001b[24m\u001b[4m2\u001b[24m765\u001b[4m2\u001b[24m   0.666\u001b[4m0\u001b[24m\u001b[4m4\u001b[24m\u001b[4m4\u001b[24m852\u001b[4m7\u001b[24m   0.509\u001b[4m1\u001b[24m\u001b[4m5\u001b[24m\u001b[4m8\u001b[24m630\u001b[4m0\u001b[24m\n",
      "\u001b[90m5\u001b[39m a2    b1     0.617\u001b[4m6\u001b[24m\u001b[4m6\u001b[24m\u001b[4m0\u001b[24m846\u001b[4m7\u001b[24m   0.532\u001b[4m0\u001b[24m\u001b[4m3\u001b[24m\u001b[4m8\u001b[24m766\u001b[4m4\u001b[24m  -\u001b[31m0\u001b[39m\u001b[31m.\u001b[39m\u001b[31m158\u001b[4m2\u001b[24m\u001b[4m6\u001b[24m\u001b[4m9\u001b[24m486\u001b[4m8\u001b[24m\u001b[39m\n",
      "\u001b[90m6\u001b[39m a2    b2     2.496\u001b[4m4\u001b[24m\u001b[4m1\u001b[24m\u001b[4m7\u001b[24m063   -\u001b[31m1\u001b[39m\u001b[31m.\u001b[39m\u001b[31m0\u001b[39m\u001b[31m50\u001b[4m8\u001b[24m\u001b[4m0\u001b[24m\u001b[4m7\u001b[24m799\u001b[39m    0.691\u001b[4m6\u001b[24m\u001b[4m7\u001b[24m\u001b[4m6\u001b[24m256\u001b[4m1\u001b[24m\n",
      "[1] \"3962.49357594740331478533335030078888 \"\n",
      "[1] \"4025.38970446053281193599104881286621 \"\n",
      "[1] \"4114.28832691883962979773059487342834 \"\n",
      "[1] \"-0.02662872001551538220232018261413 \"\n",
      "[1] \"-0.00475772800525308802582769018841 \"\n",
      "[1] \"-0.01697831854605099874411244798011 \"\n"
     ]
    }
   ],
   "source": [
    "%%R\n",
    "options(pillar.sigfig=10)\n",
    "data_R = read_feather(\"data.feather\")\n",
    "SS = data_R %>% summarize(SS_x=sum(x^2), SS_y=sum(y^2), SS_z=sum(z^2))\n",
    "mn = data_R %>% summarize(mn_x=mean(x), mn_y=mean(y), mn_z=mean(z))\n",
    "for (d in list(dim(data_R), head(data_R), tail(data_R))){\n",
    "    show(d)\n",
    "}\n",
    "for (d in list(SS, mn)){\n",
    "    for (v in d){\n",
    "        print(sprintf(\"%.32f \", v))\n",
    "    }\n",
    "}"
   ]
  }
 ],
 "metadata": {
  "kernelspec": {
   "display_name": "Python 3",
   "language": "python",
   "name": "python3"
  },
  "language_info": {
   "codemirror_mode": {
    "name": "ipython",
    "version": 3
   },
   "file_extension": ".py",
   "mimetype": "text/x-python",
   "name": "python",
   "nbconvert_exporter": "python",
   "pygments_lexer": "ipython3",
   "version": "3.8.1"
  }
 },
 "nbformat": 4,
 "nbformat_minor": 4
}
